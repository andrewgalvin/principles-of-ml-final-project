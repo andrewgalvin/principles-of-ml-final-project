{
  "nbformat": 4,
  "nbformat_minor": 0,
  "metadata": {
    "colab": {
      "provenance": [],
      "authorship_tag": "ABX9TyPUCi65y1Z1cWc8QaGeAV7K",
      "include_colab_link": true
    },
    "kernelspec": {
      "name": "python3",
      "display_name": "Python 3"
    },
    "language_info": {
      "name": "python"
    }
  },
  "cells": [
    {
      "cell_type": "markdown",
      "metadata": {
        "id": "view-in-github",
        "colab_type": "text"
      },
      "source": [
        "<a href=\"https://colab.research.google.com/github/andrewgalvin/principles-of-ml-final-project/blob/main/knn.ipynb\" target=\"_parent\"><img src=\"https://colab.research.google.com/assets/colab-badge.svg\" alt=\"Open In Colab\"/></a>"
      ]
    },
    {
      "cell_type": "markdown",
      "source": [
        "Principles of Machine Learning Final Project\n",
        "\n",
        "Iris Dataset: KNN"
      ],
      "metadata": {
        "id": "GyuMH1SiUrj-"
      }
    },
    {
      "cell_type": "code",
      "source": [
        "from sklearn import datasets\n",
        "from sklearn.model_selection import train_test_split\n",
        "from sklearn import neighbors\n",
        "import pandas as pd\n",
        "import numpy as np\n",
        "from sklearn.metrics import accuracy_score"
      ],
      "metadata": {
        "id": "RLQTSQs7UxUT"
      },
      "execution_count": 1,
      "outputs": []
    },
    {
      "cell_type": "code",
      "source": [
        "iris=datasets.load_iris()\n",
        "\n",
        "x=iris.data\n",
        "y=iris.target\n",
        "x_train,x_test,y_train,y_test=train_test_split(x,y,test_size=.3)"
      ],
      "metadata": {
        "id": "V5WX28iaXwTK"
      },
      "execution_count": 9,
      "outputs": []
    },
    {
      "cell_type": "code",
      "source": [
        "from sklearn import neighbors\n",
        "import pandas as pd\n",
        "import numpy as np\n",
        "from sklearn.metrics import accuracy_score\n",
        "classifier=neighbors.KNeighborsClassifier()\n",
        "classifier.fit(x_train, y_train)\n",
        "\n",
        "predictions=classifier.predict(x_test)\n",
        "print(\"Actual Test Labels:\")\n",
        "print(y_test)\n",
        "print(\"Predicted Labels from KNN:\")\n",
        "print(predictions)\n",
        "print(\"Accuracy Score for KNN:\")\n",
        "print(accuracy_score(y_test,predictions))"
      ],
      "metadata": {
        "colab": {
          "base_uri": "https://localhost:8080/"
        },
        "id": "4k6FKZoDXyMF",
        "outputId": "b2134e63-f726-43c5-d82c-35eec8c09b9a"
      },
      "execution_count": 10,
      "outputs": [
        {
          "output_type": "stream",
          "name": "stdout",
          "text": [
            "Actual Test Labels:\n",
            "[0 2 1 1 1 2 2 2 2 2 1 1 1 0 2 0 0 2 2 2 0 0 0 1 2 2 0 0 2 2 0 1 1 1 1 2 0\n",
            " 2 2 2 0 1 0 1 1]\n",
            "Predicted Labels from KNN:\n",
            "[0 2 1 1 1 2 2 2 2 2 2 1 1 0 2 0 0 2 2 2 0 0 0 1 2 2 0 0 2 2 0 1 1 1 1 2 0\n",
            " 1 2 2 0 1 0 1 1]\n",
            "Accuracy Score for KNN:\n",
            "0.9555555555555556\n"
          ]
        }
      ]
    }
  ]
}