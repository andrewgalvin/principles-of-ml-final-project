{
  "nbformat": 4,
  "nbformat_minor": 0,
  "metadata": {
    "colab": {
      "provenance": [],
      "authorship_tag": "ABX9TyP/x23i2G8AgOt1sIhZVYBv",
      "include_colab_link": true
    },
    "kernelspec": {
      "name": "python3",
      "display_name": "Python 3"
    },
    "language_info": {
      "name": "python"
    }
  },
  "cells": [
    {
      "cell_type": "markdown",
      "metadata": {
        "id": "view-in-github",
        "colab_type": "text"
      },
      "source": [
        "<a href=\"https://colab.research.google.com/github/andrewgalvin/principles-of-ml-final-project/blob/main/knn.ipynb\" target=\"_parent\"><img src=\"https://colab.research.google.com/assets/colab-badge.svg\" alt=\"Open In Colab\"/></a>"
      ]
    },
    {
      "cell_type": "markdown",
      "source": [
        "Principles of Machine Learning Final Project\n",
        "\n",
        "Iris Dataset: KNN"
      ],
      "metadata": {
        "id": "GyuMH1SiUrj-"
      }
    },
    {
      "cell_type": "code",
      "source": [],
      "metadata": {
        "id": "RLQTSQs7UxUT"
      },
      "execution_count": null,
      "outputs": []
    }
  ]
}