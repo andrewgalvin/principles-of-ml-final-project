{
  "nbformat": 4,
  "nbformat_minor": 0,
  "metadata": {
    "colab": {
      "provenance": [],
      "authorship_tag": "ABX9TyNzTEp3NiQm0JjgFHAJulxD",
      "include_colab_link": true
    },
    "kernelspec": {
      "name": "python3",
      "display_name": "Python 3"
    },
    "language_info": {
      "name": "python"
    }
  },
  "cells": [
    {
      "cell_type": "markdown",
      "metadata": {
        "id": "view-in-github",
        "colab_type": "text"
      },
      "source": [
        "<a href=\"https://colab.research.google.com/github/andrewgalvin/principles-of-ml-final-project/blob/main/svm.ipynb\" target=\"_parent\"><img src=\"https://colab.research.google.com/assets/colab-badge.svg\" alt=\"Open In Colab\"/></a>"
      ]
    },
    {
      "cell_type": "markdown",
      "source": [
        "Principles of Machine Learning Final Project\n",
        "\n",
        "Iris Dataset: SVM"
      ],
      "metadata": {
        "id": "Mg9sRYVoVGu3"
      }
    },
    {
      "cell_type": "code",
      "execution_count": 1,
      "metadata": {
        "id": "56oxrdPAVEPT"
      },
      "outputs": [],
      "source": [
        "from sklearn import datasets\n",
        "from sklearn.model_selection import train_test_split\n",
        "from sklearn import svm\n",
        "import pandas as pd\n",
        "import numpy as np\n",
        "from sklearn.metrics import accuracy_score"
      ]
    },
    {
      "cell_type": "code",
      "source": [
        "iris=datasets.load_iris()\n",
        "\n",
        "x=iris.data\n",
        "y=iris.target\n",
        "x_train,x_test,y_train,y_test=train_test_split(x,y,test_size=.3)"
      ],
      "metadata": {
        "id": "3dunjx3FYaUp"
      },
      "execution_count": 2,
      "outputs": []
    },
    {
      "cell_type": "code",
      "source": [
        "# Train a model for each kernel type\n",
        "linear = svm.SVC(kernel='linear', C=1, decision_function_shape='ovo').fit(x_train, y_train)\n",
        "rbf = svm.SVC(kernel='rbf', gamma=1, C=1, decision_function_shape='ovo').fit(x_train, y_train)\n",
        "poly = svm.SVC(kernel='poly', degree=3, C=1, decision_function_shape='ovo').fit(x_train, y_train)\n",
        "sig = svm.SVC(kernel='sigmoid', C=1, decision_function_shape='ovo').fit(x_train, y_train)\n",
        "\n",
        "# Perform predictions for each kernel type\n",
        "linear_pred = linear.predict(x_test)\n",
        "poly_pred = poly.predict(x_test)\n",
        "rbf_pred = rbf.predict(x_test)\n",
        "sig_pred = sig.predict(x_test)\n",
        "\n",
        "print(\"Actual Test Labels:\")\n",
        "print(y_test)\n",
        "print(\"Predicted Labels from Linear Kernel:\")\n",
        "print(linear_pred)\n",
        "print(\"Accuracy Score for Linear Kernel:\")\n",
        "print(linear.score(x_test, y_test))\n",
        "\n",
        "print(\"------------------------------------------------------------------------------------\")\n",
        "\n",
        "print(\"Predicted Labels from Polynomial Kernel:\")\n",
        "print(poly_pred)\n",
        "print(\"Accuracy Score for Polynomial Kernel:\")\n",
        "print(poly.score(x_test, y_test))\n",
        "\n",
        "print(\"------------------------------------------------------------------------------------\")\n",
        "\n",
        "print(\"Predicted Labels from RBF Kernel:\")\n",
        "print(rbf_pred)\n",
        "print(\"Accuracy Score for RBF Kernel:\")\n",
        "print(rbf.score(x_test, y_test))\n",
        "\n",
        "print(\"------------------------------------------------------------------------------------\")\n",
        "\n",
        "print(\"Predicted Labels from Sigmoid Kernel:\")\n",
        "print(sig_pred)\n",
        "print(\"Accuracy Score for Sigmoid Kernel:\")\n",
        "print(sig.score(x_test, y_test))\n",
        "\n",
        "print(\"------------------------------------------------------------------------------------\")"
      ],
      "metadata": {
        "colab": {
          "base_uri": "https://localhost:8080/"
        },
        "id": "W0cvzLqHYfVc",
        "outputId": "f0bfdc33-30c1-4512-f15b-8dec2100ce9e"
      },
      "execution_count": 3,
      "outputs": [
        {
          "output_type": "stream",
          "name": "stdout",
          "text": [
            "Actual Test Labels:\n",
            "[2 2 2 0 0 2 0 2 1 0 1 0 2 2 0 0 0 1 1 1 1 2 1 2 0 0 1 0 2 1 0 0 0 1 1 1 0\n",
            " 1 1 1 1 1 2 2 0]\n",
            "Predicted Labels from Linear Kernel:\n",
            "[2 2 2 0 0 2 0 2 1 0 1 0 2 2 0 0 0 1 1 1 1 2 1 2 0 0 1 0 2 1 0 0 0 2 1 1 0\n",
            " 1 1 1 1 1 2 2 0]\n",
            "Accuracy Score for Linear Kernel:\n",
            "0.9777777777777777\n",
            "------------------------------------------------------------------------------------\n",
            "Predicted Labels from Polynomial Kernel:\n",
            "[2 2 2 0 0 2 0 2 1 0 1 0 2 2 0 0 0 1 1 2 1 2 1 2 0 0 1 0 2 1 0 0 0 2 1 1 0\n",
            " 1 1 1 1 1 2 2 0]\n",
            "Accuracy Score for Polynomial Kernel:\n",
            "0.9555555555555556\n",
            "------------------------------------------------------------------------------------\n",
            "Predicted Labels from RBF Kernel:\n",
            "[2 2 2 0 0 2 0 2 1 0 1 0 2 2 0 0 0 1 1 2 1 2 1 2 0 0 1 0 2 1 0 0 0 2 1 1 0\n",
            " 1 1 1 1 1 2 2 0]\n",
            "Accuracy Score for RBF Kernel:\n",
            "0.9555555555555556\n",
            "------------------------------------------------------------------------------------\n",
            "Predicted Labels from Sigmoid Kernel:\n",
            "[2 2 2 2 2 2 2 2 2 2 2 2 2 2 2 2 2 2 2 2 2 2 2 2 2 2 2 2 2 2 2 2 2 2 2 2 2\n",
            " 2 2 2 2 2 2 2 2]\n",
            "Accuracy Score for Sigmoid Kernel:\n",
            "0.26666666666666666\n",
            "------------------------------------------------------------------------------------\n"
          ]
        }
      ]
    }
  ]
}